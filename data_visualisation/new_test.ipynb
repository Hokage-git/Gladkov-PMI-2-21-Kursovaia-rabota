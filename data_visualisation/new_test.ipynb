{
 "cells": [
  {
   "cell_type": "code",
   "execution_count": 1,
   "metadata": {},
   "outputs": [],
   "source": [
    "import torch\n",
    "import sys\n",
    "import os\n",
    "from pathlib import Path\n",
    "import numpy as np\n",
    "from typing import List\n",
    "from PIL import Image\n",
    "import pandas as pd\n",
    "from sklearn.preprocessing import MinMaxScaler\n",
    "from scipy.interpolate import interp1d\n",
    "\n",
    "sys.path.append(\".\")\n",
    "sys.path.append(\"..\")\n",
    "sys.path.append(os.path.abspath('D:/Docs/Kursach/stylegan3-editing/utils/'))\n",
    "\n",
    "from models.stylegan3.model import SG3Generator\n",
    "from common import make_transform, tensor2im\n",
    "from editor.Editor import FaceEditor\n",
    "from models.stylegan3.model import GeneratorType"
   ]
  },
  {
   "cell_type": "code",
   "execution_count": 2,
   "metadata": {},
   "outputs": [
    {
     "name": "stdout",
     "output_type": "stream",
     "text": [
      "Loading StyleGAN3 generator from path: ../pretrained_models/stylegan3-r-ffhq-1024x1024.pkl\n",
      "Done!\n"
     ]
    }
   ],
   "source": [
    "generator = SG3Generator(checkpoint_path=\"../pretrained_models/stylegan3-r-ffhq-1024x1024.pkl\").decoder\n",
    "\n",
    "trunc = 0.5"
   ]
  },
  {
   "cell_type": "code",
   "execution_count": 3,
   "metadata": {},
   "outputs": [],
   "source": [
    "csv_name = 'iris'\n",
    "df = pd.read_csv(f\"{Path('./datasets/') / csv_name}.csv\")\n",
    "df = df.select_dtypes(exclude=['object'])"
   ]
  },
  {
   "cell_type": "code",
   "execution_count": 4,
   "metadata": {},
   "outputs": [],
   "source": [
    "scaler = MinMaxScaler()\n",
    "df_scaled = scaler.fit_transform(df.iloc[:])"
   ]
  },
  {
   "cell_type": "code",
   "execution_count": null,
   "metadata": {},
   "outputs": [],
   "source": [
    "num_samples, num_features = df_scaled.shape\n",
    "df_latents = []\n",
    "    \n",
    "for i in range(num_samples):\n",
    "    f = interp1d(np.linspace(0, 512-1, num=num_features), df_scaled[i], kind='linear')\n",
    "    vector = f(np.arange(512))\n",
    "    df_latents.append(vector)"
   ]
  },
  {
   "cell_type": "markdown",
   "metadata": {},
   "source": [
    "**more_strong_attributes v1**"
   ]
  },
  {
   "cell_type": "code",
   "execution_count": 9,
   "metadata": {},
   "outputs": [],
   "source": [
    "num_samples, num_features = df_scaled.shape\n",
    "df_latents=[]\n",
    "step = 512 // (num_features)\n",
    "for item in df_scaled:\n",
    "    vector = np.zeros(512)\n",
    "    for i in range(num_features):\n",
    "        vector[i*step:(i+1)*step] = item[i]\n",
    "    df_latents.append(vector)"
   ]
  },
  {
   "cell_type": "markdown",
   "metadata": {},
   "source": [
    "**more_strong_attributes v2**"
   ]
  },
  {
   "cell_type": "code",
   "execution_count": 10,
   "metadata": {},
   "outputs": [],
   "source": [
    "num_samples, num_features = df_scaled.shape\n",
    "df_latents=[]\n",
    "for i in range(num_samples):\n",
    "    f = interp1d(np.linspace(0, 512-1, num=num_features), df_scaled[i], kind='linear')\n",
    "    vector = f(np.arange(512))\n",
    "    df_latents.append(vector)"
   ]
  },
  {
   "cell_type": "code",
   "execution_count": 151,
   "metadata": {},
   "outputs": [],
   "source": [
    "cluster_images = []\n",
    "for latent in df_latents:\n",
    "    z = torch.from_numpy(latent).float().to('cuda').unsqueeze(0)\n",
    "    w = generator.mapping(z, None, truncation_psi=trunc)\n",
    "    with torch.no_grad():\n",
    "        img = generator.synthesis(w, noise_mode='const')\n",
    "        cluster_images.append(tensor2im(img[0]))\n",
    "\n",
    "start_path = Path(f'./edit_results/{csv_name}')\n",
    "start_path.mkdir(exist_ok=True, parents=True)\n",
    "for i, img in enumerate(cluster_images):\n",
    "    img.save(start_path / f\"data_in_image_{i+1}.png\")"
   ]
  }
 ],
 "metadata": {
  "kernelspec": {
   "display_name": "Python 3",
   "language": "python",
   "name": "python3"
  },
  "language_info": {
   "codemirror_mode": {
    "name": "ipython",
    "version": 3
   },
   "file_extension": ".py",
   "mimetype": "text/x-python",
   "name": "python",
   "nbconvert_exporter": "python",
   "pygments_lexer": "ipython3",
   "version": "3.12.2"
  }
 },
 "nbformat": 4,
 "nbformat_minor": 2
}
