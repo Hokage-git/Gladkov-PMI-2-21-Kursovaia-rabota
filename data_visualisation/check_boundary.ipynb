{
 "cells": [
  {
   "cell_type": "code",
   "execution_count": 1,
   "metadata": {},
   "outputs": [],
   "source": [
    "import torch\n",
    "import sys\n",
    "import os\n",
    "from pathlib import Path\n",
    "import numpy as np\n",
    "from typing import List\n",
    "from PIL import Image\n",
    "\n",
    "sys.path.append(\".\")\n",
    "sys.path.append(\"..\")\n",
    "sys.path.append(os.path.abspath('D:/Docs/Kursach/stylegan3-editing/utils/'))\n",
    "\n",
    "from models.stylegan3.model import SG3Generator\n",
    "from common import make_transform, tensor2im\n",
    "from editor.Editor import FaceEditor\n",
    "from models.stylegan3.model import GeneratorType"
   ]
  },
  {
   "cell_type": "code",
   "execution_count": 2,
   "metadata": {},
   "outputs": [
    {
     "name": "stdout",
     "output_type": "stream",
     "text": [
      "Loading StyleGAN3 generator from path: ../pretrained_models/stylegan3-r-ffhq-1024x1024.pkl\n",
      "Done!\n"
     ]
    }
   ],
   "source": [
    "generator = SG3Generator(checkpoint_path=\"../pretrained_models/stylegan3-r-ffhq-1024x1024.pkl\").decoder\n",
    "\n",
    "num_images_per_cluster = 5\n",
    "trunc = 0.5\n",
    "\n",
    "INTERFACEGAN_RANGES = {\n",
    "    \"pose\": (-4, 5),\n",
    "    \"age\": (-5, 5),\n",
    "    \"smile\": (-2, 2),\n",
    "    \"Male\": (-2, 4)\n",
    "}"
   ]
  },
  {
   "cell_type": "code",
   "execution_count": 3,
   "metadata": {},
   "outputs": [],
   "source": [
    "if hasattr(generator.synthesis, 'input'):\n",
    "    m = make_transform(translate=(0, 0), angle=0)\n",
    "    m = np.linalg.inv(m)\n",
    "    generator.synthesis.input.transform.copy_(torch.from_numpy(m))"
   ]
  },
  {
   "cell_type": "code",
   "execution_count": 4,
   "metadata": {},
   "outputs": [],
   "source": [
    "editor = FaceEditor(generator, GeneratorType.ALIGNED)\n",
    "start_path = Path('./edit_results')"
   ]
  },
  {
   "cell_type": "code",
   "execution_count": 5,
   "metadata": {},
   "outputs": [],
   "source": [
    "def save_coupled_images(images: List, output_path: Path):\n",
    "    if type(images[0]) == list:\n",
    "        images = [image[0] for image in images]\n",
    "    res = np.array(images[0])\n",
    "    for image in images[1:]:\n",
    "        res = np.concatenate([res, image], axis=1)\n",
    "    res = Image.fromarray(res).convert(\"RGB\")\n",
    "    res.save(output_path)"
   ]
  },
  {
   "cell_type": "code",
   "execution_count": 417,
   "metadata": {},
   "outputs": [],
   "source": [
    "z = torch.from_numpy(np.random.randn(1, 512)).to('cuda')\n",
    "w = generator.mapping(z, None, truncation_psi=trunc)\n",
    "for direction in [\"age\", \"smile\", \"pose\", \"Male\"]:\n",
    "    edit_images, _ = editor.edit(latents=w,\n",
    "                                 direction=direction,\n",
    "                                 factor_range=INTERFACEGAN_RANGES[direction],\n",
    "                                 apply_user_transformations=False)\n",
    "    save_coupled_images(edit_images[0], output_path=start_path / f\"cluster1_{direction}_initial.png\")\n",
    "    save_coupled_images(edit_images[-1], output_path=start_path / f\"cluster1_{direction}_final.png\")"
   ]
  },
  {
   "cell_type": "code",
   "execution_count": 418,
   "metadata": {},
   "outputs": [],
   "source": [
    "z = torch.from_numpy(np.random.randn(1, 512)).to('cuda')\n",
    "w = generator.mapping(z, None, truncation_psi=trunc)\n",
    "for direction in [\"age\", \"smile\", \"pose\", \"Male\"]:\n",
    "    edit_images, _ = editor.edit(latents=w,\n",
    "                                 direction=direction,\n",
    "                                 factor_range=INTERFACEGAN_RANGES[direction],\n",
    "                                 apply_user_transformations=False)\n",
    "    save_coupled_images(edit_images[0], output_path=start_path / f\"cluster2_{direction}_initial.png\")\n",
    "    save_coupled_images(edit_images[-1], output_path=start_path / f\"cluster2_{direction}_final.png\")"
   ]
  }
 ],
 "metadata": {
  "kernelspec": {
   "display_name": "Python 3",
   "language": "python",
   "name": "python3"
  },
  "language_info": {
   "codemirror_mode": {
    "name": "ipython",
    "version": 3
   },
   "file_extension": ".py",
   "mimetype": "text/x-python",
   "name": "python",
   "nbconvert_exporter": "python",
   "pygments_lexer": "ipython3",
   "version": "3.12.2"
  }
 },
 "nbformat": 4,
 "nbformat_minor": 2
}
