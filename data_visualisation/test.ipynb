{
 "cells": [
  {
   "cell_type": "code",
   "execution_count": 41,
   "metadata": {},
   "outputs": [],
   "source": [
    "import torch\n",
    "import sys\n",
    "import os\n",
    "from pathlib import Path\n",
    "import numpy as np\n",
    "from typing import List\n",
    "from PIL import Image\n",
    "import pandas as pd\n",
    "from sklearn.preprocessing import MinMaxScaler\n",
    "from sklearn.cluster import KMeans\n",
    "from sklearn.decomposition import PCA\n",
    "\n",
    "sys.path.append(\".\")\n",
    "sys.path.append(\"..\")\n",
    "sys.path.append(os.path.abspath('D:/Docs/Kursach/stylegan3-editing/utils/'))\n",
    "\n",
    "from models.stylegan3.model import SG3Generator\n",
    "from common import make_transform, tensor2im\n",
    "from notebooks.notebook_utils import run_alignment, crop_image, compute_transforms"
   ]
  },
  {
   "cell_type": "code",
   "execution_count": 42,
   "metadata": {},
   "outputs": [
    {
     "name": "stdout",
     "output_type": "stream",
     "text": [
      "Loading StyleGAN3 generator from path: ../pretrained_models/stylegan3-r-ffhq-1024x1024.pkl\n",
      "Done!\n"
     ]
    }
   ],
   "source": [
    "generator = SG3Generator(checkpoint_path=\"../pretrained_models/stylegan3-r-ffhq-1024x1024.pkl\").decoder\n",
    "\n",
    "num_images_per_cluster = 5\n",
    "trunc = 0.5\n",
    "\n",
    "INTERFACEGAN_RANGES = {\n",
    "    \"asian_eyes\": (-4, 5),\n",
    "    \"age\": (-5, 5),\n",
    "    \"smile\": (-2, 2),\n",
    "    \"Male\": (-2, 4)\n",
    "}"
   ]
  },
  {
   "cell_type": "code",
   "execution_count": 43,
   "metadata": {},
   "outputs": [],
   "source": [
    "csv_name = 'sonar_all-data'\n",
    "df = pd.read_csv(f\"{Path('./datasets/') / csv_name}.csv\")\n",
    "df = df.select_dtypes(exclude=['object'])\n",
    "custom_images = [\"gladkov.jpg\", \"gorodilov.jpg\", \"smith.jpg\"]"
   ]
  },
  {
   "cell_type": "code",
   "execution_count": 44,
   "metadata": {},
   "outputs": [
    {
     "name": "stdout",
     "output_type": "stream",
     "text": [
      "Downloading files for aligning face image...\n",
      "Done.\n",
      "Aligning image...\n",
      "Finished aligning image: images\\gladkov.jpg\n",
      "Downloading files for aligning face image...\n",
      "Done.\n",
      "Aligning image...\n",
      "Finished aligning image: images\\gorodilov.jpg\n",
      "Downloading files for aligning face image...\n",
      "Done.\n",
      "Aligning image...\n",
      "Finished aligning image: images\\smith.jpg\n"
     ]
    }
   ],
   "source": [
    "aligned_img = []\n",
    "for image_path in custom_images:\n",
    "    img_p = Path('./images/') / image_path\n",
    "    input_image = run_alignment(img_p)\n",
    "    joined = np.concatenate([input_image.resize((256, 256))], axis=1)\n",
    "    aligned_img.append(Image.fromarray(joined))"
   ]
  },
  {
   "cell_type": "code",
   "execution_count": 45,
   "metadata": {},
   "outputs": [],
   "source": [
    "scaler = MinMaxScaler()\n",
    "df_scaled = scaler.fit_transform(df.iloc[:])"
   ]
  },
  {
   "cell_type": "code",
   "execution_count": 46,
   "metadata": {},
   "outputs": [],
   "source": [
    "num_samples, num_atributes = df_scaled.shape\n",
    "df_latents = np.pad(df_scaled, ((0, 0), (0, 512-num_atributes)))\n",
    "kmeans = KMeans(n_clusters=3, random_state=0).fit(df_latents)\n",
    "cluster_assignments = kmeans.predict(df_latents)"
   ]
  },
  {
   "cell_type": "code",
   "execution_count": null,
   "metadata": {},
   "outputs": [],
   "source": [
    "cluster_images = []\n",
    "for latent in df_latents:\n",
    "    z = torch.from_numpy(latent).float().to('cuda').unsqueeze(0)\n",
    "    w = generator.mapping(z, None, truncation_psi=trunc)\n",
    "    with torch.no_grad():\n",
    "        img = generator.synthesis(w, noise_mode='const')\n",
    "        cluster_images.append(tensor2im(img[0]))\n",
    "\n",
    "start_path = Path(f'./edit_results/{csv_name}')\n",
    "start_path.mkdir(exist_ok=True, parents=True)\n",
    "for i, img in enumerate(cluster_images):\n",
    "    img.save(start_path / f\"data_in_image_{i+1}.png\")"
   ]
  }
 ],
 "metadata": {
  "kernelspec": {
   "display_name": "Python 3",
   "language": "python",
   "name": "python3"
  },
  "language_info": {
   "codemirror_mode": {
    "name": "ipython",
    "version": 3
   },
   "file_extension": ".py",
   "mimetype": "text/x-python",
   "name": "python",
   "nbconvert_exporter": "python",
   "pygments_lexer": "ipython3",
   "version": "3.12.2"
  }
 },
 "nbformat": 4,
 "nbformat_minor": 2
}
