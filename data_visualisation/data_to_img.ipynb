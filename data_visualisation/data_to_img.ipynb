{
 "cells": [
  {
   "cell_type": "code",
   "execution_count": 1,
   "metadata": {},
   "outputs": [],
   "source": [
    "import torch\n",
    "import sys\n",
    "import os\n",
    "from pathlib import Path\n",
    "import numpy as np\n",
    "from typing import List\n",
    "from PIL import Image\n",
    "import pandas as pd\n",
    "from sklearn.preprocessing import MinMaxScaler\n",
    "from sklearn.cluster import KMeans\n",
    "\n",
    "sys.path.append(\".\")\n",
    "sys.path.append(\"..\")\n",
    "sys.path.append(os.path.abspath('D:/Docs/Kursach/stylegan3-editing/utils/'))\n",
    "\n",
    "from models.stylegan3.model import SG3Generator\n",
    "from common import make_transform, tensor2im\n",
    "from editor.Editor import FaceEditor\n",
    "from models.stylegan3.model import GeneratorType"
   ]
  },
  {
   "cell_type": "code",
   "execution_count": 2,
   "metadata": {},
   "outputs": [
    {
     "name": "stdout",
     "output_type": "stream",
     "text": [
      "Loading StyleGAN3 generator from path: ../pretrained_models/stylegan3-r-ffhq-1024x1024.pkl\n"
     ]
    },
    {
     "name": "stdout",
     "output_type": "stream",
     "text": [
      "Done!\n"
     ]
    }
   ],
   "source": [
    "generator = SG3Generator(checkpoint_path=\"../pretrained_models/stylegan3-r-ffhq-1024x1024.pkl\").decoder\n",
    "\n",
    "num_images_per_cluster = 5\n",
    "trunc = 0.5\n",
    "\n",
    "INTERFACEGAN_RANGES = {\n",
    "    \"asian_eyes\": (-4, 5),\n",
    "    \"age\": (-5, 5),\n",
    "    \"smile\": (-2, 2),\n",
    "    \"Male\": (-2, 4)\n",
    "}"
   ]
  },
  {
   "cell_type": "code",
   "execution_count": 3,
   "metadata": {},
   "outputs": [],
   "source": [
    "csv_name = 'fruit'\n",
    "df = pd.read_csv(f\"{Path('./datasets/') / csv_name}.csv\")\n",
    "df = df.select_dtypes(exclude=['object'])\n",
    "zero_row = pd.Series([0.5] * len(df.columns), index=df.columns)\n",
    "df = pd.concat([pd.DataFrame([zero_row]), df], ignore_index=True)"
   ]
  },
  {
   "cell_type": "code",
   "execution_count": 4,
   "metadata": {},
   "outputs": [
    {
     "data": {
      "text/plain": [
       "array([[0.        , 0.        , 0.        , 0.        , 0.        ],\n",
       "       [0.14285714, 0.52973721, 0.86813187, 0.68      , 0.11627907],\n",
       "       [0.14285714, 0.49654219, 0.82417582, 0.63      , 0.20930233],\n",
       "       [0.14285714, 0.48547718, 0.75824176, 0.67      , 0.23255814],\n",
       "       [0.42857143, 0.23651452, 0.62637363, 0.42      , 0.69767442],\n",
       "       [0.42857143, 0.23098202, 0.6043956 , 0.41      , 0.6744186 ],\n",
       "       [0.42857143, 0.21991701, 0.58241758, 0.38      , 0.62790698],\n",
       "       [0.42857143, 0.21991701, 0.59340659, 0.38      , 0.72093023],\n",
       "       [0.42857143, 0.20885201, 0.58241758, 0.35      , 0.72093023],\n",
       "       [0.14285714, 0.49100968, 0.72527473, 0.73      , 0.97674419],\n",
       "       [0.14285714, 0.47441217, 0.75824176, 0.65      , 0.90697674],\n",
       "       [0.14285714, 0.45781466, 0.7032967 , 0.68      , 1.        ],\n",
       "       [0.14285714, 0.47441217, 0.72527473, 0.71      , 0.97674419],\n",
       "       [0.14285714, 0.42461964, 0.71428571, 0.66      , 0.88372093],\n",
       "       [0.14285714, 0.45228216, 0.74725275, 0.72      , 0.46511628],\n",
       "       [0.14285714, 0.41908714, 0.78021978, 0.68      , 0.44186047],\n",
       "       [0.14285714, 0.43015214, 0.79120879, 0.66      , 0.44186047],\n",
       "       [0.14285714, 0.43015214, 0.78021978, 0.7       , 0.39534884],\n",
       "       [0.14285714, 0.46334716, 0.76923077, 0.71      , 0.53488372],\n",
       "       [0.14285714, 0.44674965, 0.76923077, 0.66      , 0.76744186],\n",
       "       [0.14285714, 0.44674965, 0.75824176, 0.67      , 0.81395349],\n",
       "       [0.14285714, 0.44121715, 0.76923077, 0.7       , 0.8372093 ],\n",
       "       [0.14285714, 0.43015214, 0.75824176, 0.69      , 0.79069767],\n",
       "       [0.14285714, 0.38589212, 0.74725275, 0.66      , 0.86046512],\n",
       "       [0.14285714, 0.46887967, 0.78021978, 0.74      , 0.88372093],\n",
       "       [0.71428571, 0.94467497, 0.93406593, 0.89      , 0.58139535],\n",
       "       [0.71428571, 0.98340249, 0.95604396, 0.87      , 0.58139535],\n",
       "       [0.71428571, 1.        , 1.        , 0.87      , 0.55813953],\n",
       "       [0.71428571, 0.56293223, 0.76923077, 0.87      , 0.62790698],\n",
       "       [0.71428571, 0.38589212, 0.68131868, 0.66      , 0.51162791],\n",
       "       [0.71428571, 0.44121715, 0.71428571, 0.69      , 0.72093023],\n",
       "       [0.71428571, 0.43568465, 0.72527473, 0.7       , 0.6744186 ],\n",
       "       [0.71428571, 0.57952974, 0.8021978 , 0.75      , 0.74418605],\n",
       "       [0.71428571, 0.45228216, 0.73626374, 0.65      , 0.69767442],\n",
       "       [0.71428571, 0.5242047 , 0.76923077, 0.76      , 0.55813953],\n",
       "       [0.71428571, 0.39142462, 0.78021978, 0.73      , 0.58139535],\n",
       "       [0.71428571, 0.41355463, 0.72527473, 0.74      , 0.58139535],\n",
       "       [0.71428571, 0.44121715, 0.72527473, 0.71      , 0.60465116],\n",
       "       [0.71428571, 0.42461964, 0.74725275, 0.68      , 0.6744186 ],\n",
       "       [0.71428571, 0.43568465, 0.73626374, 0.73      , 0.62790698],\n",
       "       [0.71428571, 0.39695712, 0.69230769, 0.69      , 0.58139535],\n",
       "       [0.71428571, 0.42461964, 0.72527473, 0.7       , 0.65116279],\n",
       "       [0.71428571, 0.49654219, 0.78021978, 0.77      , 0.6744186 ],\n",
       "       [0.71428571, 0.42461964, 0.73626374, 0.67      , 0.74418605],\n",
       "       [1.        , 0.53526971, 0.73626374, 0.98      , 0.46511628],\n",
       "       [1.        , 0.55186722, 0.74725275, 1.        , 0.51162791],\n",
       "       [1.        , 0.5131397 , 0.73626374, 0.87      , 0.51162791],\n",
       "       [1.        , 0.59612725, 0.74725275, 0.97      , 0.48837209],\n",
       "       [1.        , 0.54080221, 0.74725275, 0.92      , 0.51162791],\n",
       "       [1.        , 0.47994467, 0.74725275, 0.96      , 0.51162791],\n",
       "       [1.        , 0.3637621 , 0.58241758, 0.82      , 0.53488372],\n",
       "       [1.        , 0.3582296 , 0.6043956 , 0.77      , 0.48837209],\n",
       "       [1.        , 0.31950207, 0.6043956 , 0.7       , 0.51162791],\n",
       "       [1.        , 0.32503458, 0.59340659, 0.75      , 0.51162791],\n",
       "       [1.        , 0.33056708, 0.6043956 , 0.79      , 0.55813953],\n",
       "       [1.        , 0.31950207, 0.61538462, 0.8       , 0.48837209],\n",
       "       [1.        , 0.31950207, 0.63736264, 0.72      , 0.51162791],\n",
       "       [1.        , 0.31950207, 0.59340659, 0.76      , 0.53488372],\n",
       "       [1.        , 0.41908714, 0.65934066, 0.8       , 0.51162791],\n",
       "       [1.        , 0.32503458, 0.61538462, 0.76      , 0.46511628]])"
      ]
     },
     "execution_count": 4,
     "metadata": {},
     "output_type": "execute_result"
    }
   ],
   "source": [
    "scaler = MinMaxScaler()\n",
    "df_scaled = scaler.fit_transform(df.iloc[:])\n",
    "df_scaled"
   ]
  },
  {
   "cell_type": "code",
   "execution_count": 5,
   "metadata": {},
   "outputs": [
    {
     "data": {
      "text/plain": [
       "array([[0.        , 0.        , 0.        , ..., 0.        , 0.        ,\n",
       "        0.        ],\n",
       "       [0.14285714, 0.52973721, 0.86813187, ..., 0.        , 0.        ,\n",
       "        0.        ],\n",
       "       [0.14285714, 0.49654219, 0.82417582, ..., 0.        , 0.        ,\n",
       "        0.        ],\n",
       "       ...,\n",
       "       [1.        , 0.31950207, 0.59340659, ..., 0.        , 0.        ,\n",
       "        0.        ],\n",
       "       [1.        , 0.41908714, 0.65934066, ..., 0.        , 0.        ,\n",
       "        0.        ],\n",
       "       [1.        , 0.32503458, 0.61538462, ..., 0.        , 0.        ,\n",
       "        0.        ]])"
      ]
     },
     "execution_count": 5,
     "metadata": {},
     "output_type": "execute_result"
    }
   ],
   "source": [
    "num_samples, num_atributes = df_scaled.shape\n",
    "df_latents = np.pad(df_scaled, ((0, 0), (0, 512-num_atributes)), mode='constant')\n",
    "df_latents"
   ]
  },
  {
   "cell_type": "code",
   "execution_count": 26,
   "metadata": {},
   "outputs": [],
   "source": [
    "cluster_images = []\n",
    "for latent in df_latents:\n",
    "    z = torch.from_numpy(latent).float().to('cuda').unsqueeze(0)\n",
    "    w = generator.mapping(z, None, truncation_psi=trunc)\n",
    "    with torch.no_grad():\n",
    "        img = generator.synthesis(w, noise_mode='const')\n",
    "        cluster_images.append(tensor2im(img[0]))\n",
    "\n",
    "start_path = Path(f'./edit_results/{csv_name}')\n",
    "start_path.mkdir(exist_ok=True, parents=True)\n",
    "for i, img in enumerate(cluster_images):\n",
    "    img.save(start_path / f\"data_in_image_{i+1}.png\")"
   ]
  }
 ],
 "metadata": {
  "kernelspec": {
   "display_name": "Python 3",
   "language": "python",
   "name": "python3"
  },
  "language_info": {
   "codemirror_mode": {
    "name": "ipython",
    "version": 3
   },
   "file_extension": ".py",
   "mimetype": "text/x-python",
   "name": "python",
   "nbconvert_exporter": "python",
   "pygments_lexer": "ipython3",
   "version": "3.12.2"
  }
 },
 "nbformat": 4,
 "nbformat_minor": 2
}
